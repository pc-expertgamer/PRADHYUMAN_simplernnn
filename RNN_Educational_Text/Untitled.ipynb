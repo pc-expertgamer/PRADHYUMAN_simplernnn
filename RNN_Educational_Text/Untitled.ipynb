{
 "cells": [
  {
   "cell_type": "code",
   "execution_count": 22,
   "id": "39caf46d-07b0-4aa8-afbe-c4b428aea722",
   "metadata": {},
   "outputs": [
    {
     "name": "stderr",
     "output_type": "stream",
     "text": [
      "2025-05-21 20:14:37.696830: I tensorflow/core/util/port.cc:153] oneDNN custom operations are on. You may see slightly different numerical results due to floating-point round-off errors from different computation orders. To turn them off, set the environment variable `TF_ENABLE_ONEDNN_OPTS=0`.\n",
      "2025-05-21 20:14:39.006690: I tensorflow/core/util/port.cc:153] oneDNN custom operations are on. You may see slightly different numerical results due to floating-point round-off errors from different computation orders. To turn them off, set the environment variable `TF_ENABLE_ONEDNN_OPTS=0`.\n",
      "Traceback (most recent call last):\n",
      "  File \"C:\\Users\\Pradhyuman\\RNN_Educational_Text\\src\\classification_model.py\", line 8, in <module>\n",
      "    from utils.preprocessing import preprocess_classification_data\n",
      "ModuleNotFoundError: No module named 'utils'\n",
      "2025-05-21 20:14:44.504048: I tensorflow/core/util/port.cc:153] oneDNN custom operations are on. You may see slightly different numerical results due to floating-point round-off errors from different computation orders. To turn them off, set the environment variable `TF_ENABLE_ONEDNN_OPTS=0`.\n",
      "2025-05-21 20:14:45.889333: I tensorflow/core/util/port.cc:153] oneDNN custom operations are on. You may see slightly different numerical results due to floating-point round-off errors from different computation orders. To turn them off, set the environment variable `TF_ENABLE_ONEDNN_OPTS=0`.\n",
      "Traceback (most recent call last):\n",
      "  File \"C:\\Users\\Pradhyuman\\RNN_Educational_Text\\src\\generation_model.py\", line 6, in <module>\n",
      "    from utils.preprocessing import preprocess_generation_data, clean_text\n",
      "ModuleNotFoundError: No module named 'utils'\n"
     ]
    }
   ],
   "source": [
    "\n",
    "!python classification_model.py\n",
    "!python generation_model.py\n"
   ]
  },
  {
   "cell_type": "code",
   "execution_count": null,
   "id": "95d01b27-5931-42e5-893b-3cb11bbcf034",
   "metadata": {},
   "outputs": [],
   "source": []
  }
 ],
 "metadata": {
  "kernelspec": {
   "display_name": "Python 3 (ipykernel)",
   "language": "python",
   "name": "python3"
  },
  "language_info": {
   "codemirror_mode": {
    "name": "ipython",
    "version": 3
   },
   "file_extension": ".py",
   "mimetype": "text/x-python",
   "name": "python",
   "nbconvert_exporter": "python",
   "pygments_lexer": "ipython3",
   "version": "3.9.21"
  }
 },
 "nbformat": 4,
 "nbformat_minor": 5
}
